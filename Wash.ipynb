{
 "cells": [
  {
   "cell_type": "code",
   "execution_count": 1,
   "metadata": {},
   "outputs": [
    {
     "name": "stderr",
     "output_type": "stream",
     "text": [
      "100%|██████████| 603/603 [00:00<00:00, 24807.66it/s]\n"
     ]
    }
   ],
   "source": [
    "import os\n",
    "import glob\n",
    "from tqdm import tqdm\n",
    "load_path = os.getcwd()\n",
    "directory = load_path + '/COP44'\n",
    "os.chdir(directory)\n",
    "corp_id = [x for x in glob.glob('*')]\n",
    "\n",
    "for i in tqdm(corp_id):\n",
    "    path = directory + '/' + i + '/original/converted.pdf'\n",
    "    path2 = directory + '/' + i + '/original/extractable.pdf'\n",
    "    if os.path.exists(path):\n",
    "        os.remove(path)\n",
    "    elif os.path.exists(path2):\n",
    "        os.remove(path2)\n",
    "    else:\n",
    "        continue"
   ]
  },
  {
   "cell_type": "code",
   "execution_count": null,
   "metadata": {},
   "outputs": [],
   "source": []
  },
  {
   "cell_type": "code",
   "execution_count": null,
   "metadata": {},
   "outputs": [],
   "source": []
  }
 ],
 "metadata": {
  "kernelspec": {
   "display_name": "Python 3",
   "language": "python",
   "name": "python3"
  },
  "language_info": {
   "codemirror_mode": {
    "name": "ipython",
    "version": 3
   },
   "file_extension": ".py",
   "mimetype": "text/x-python",
   "name": "python",
   "nbconvert_exporter": "python",
   "pygments_lexer": "ipython3",
   "version": "3.7.3"
  }
 },
 "nbformat": 4,
 "nbformat_minor": 2
}
