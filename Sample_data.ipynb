{
 "cells": [
  {
   "cell_type": "code",
   "execution_count": 1,
   "metadata": {},
   "outputs": [],
   "source": [
    "import pandas as pd\n",
    "import os\n",
    "import glob\n",
    "##directory\n",
    "sample_result = pd.read_excel(\"COP Integrity Review_June_26_2019.xlsx\")\n",
    "target = list(sample_result['Cop File Id'])\n",
    "target_id = [str(x) for x in target]\n",
    "\n",
    "files_name = []\n",
    "for i in target_id:\n",
    "    ##each path is the path of each articles\n",
    "    path = '/Volumes/easystore/COP Data/cop_2018/cop_2018/' + i + '/original/'\n",
    "    os.chdir(path)\n",
    "    file_name = [x for x in glob.glob('*')]\n",
    "    files_name.append(file_name)\n",
    "    \n",
    "#     for dirpath, dirnames, files in os.walk(path):\n",
    "#         if not files:\n",
    "#             print(dirpath, 'is empty')\n",
    "#         else:\n",
    "#             if files != 'desktop.ini':\n",
    "#             #print(dirpath,'is not empty')\n",
    "#                 files_name.append(files)\n"
   ]
  },
  {
   "cell_type": "code",
   "execution_count": 2,
   "metadata": {},
   "outputs": [
    {
     "data": {
      "text/plain": [
       "[['desktop.ini', 'Letter_to_UN_Secretary-General.pdf'],\n",
       " ['desktop.ini', 'graceletter.pdf'],\n",
       " ['CARTA_DE_GRACIA.pdf', 'desktop.ini'],\n",
       " ['CARTA_PRORROGA_COP_2018.pdf', 'desktop.ini'],\n",
       " ['desktop.ini', 'Grace_Letter_firmada.pdf'],\n",
       " ['Courrier_MGS_global_Compact_2018.pdf', 'desktop.ini'],\n",
       " ['desktop.ini', 'Letter_of_Commitment_2018.pdf'],\n",
       " ['Carta_de_gracia_Nefrópolis_2018.pdf', 'desktop.ini'],\n",
       " ['desktop.ini', 'Fujitsu-N7100_01052018_114105_001.pdf'],\n",
       " ['desktop.ini', 'Syngenta_Grace_period_request_2018_01_05.pdf'],\n",
       " ['5_COP_DEZ_2017_COMPLETA_VERSÃO_FINAL.pdf', 'desktop.ini'],\n",
       " ['Carta_Diretor_Add_Value_COP_2017.pdf', 'desktop.ini'],\n",
       " ['desktop.ini', 'lettre_extension-COP2018.pdf'],\n",
       " ['1619_001.pdf', 'desktop.ini'],\n",
       " ['Carta_firmada.pdf', 'desktop.ini'],\n",
       " ['desktop.ini', 'PACTO_NACIONES_UNIDAS_16-17.pdf'],\n",
       " ['desktop.ini', 'Grace_Letter_2017_2018.pdf'],\n",
       " ['desktop.ini', 'GRACE_LETTER_PAMPULHA.pdf'],\n",
       " ['Communication_On_Progress__CCI_2017-2018_(1).pdf', 'desktop.ini'],\n",
       " ['desktop.ini', 'UN_Global_Compact_EWA_Fortschrittsbericht_2018.pdf'],\n",
       " ['desktop.ini', 'ISO_14001-2015-Deutsch_gültig_bis_Januar_2019.pdf'],\n",
       " ['desktop.ini', 'INFORME_PROGRESO_PACTO_MUNDIAL_2016_GADISA.pdf'],\n",
       " ['COP_MVB_Syd_AB_2018_20180111.pdf', 'desktop.ini'],\n",
       " ['desktop.ini', 'INFORME_DE_PROGRESO.pdf'],\n",
       " ['2018_COP.pdf', 'desktop.ini'],\n",
       " ['desktop.ini', 'Grace_Letter.pdf'],\n",
       " ['20171219115410982.pdf', 'desktop.ini'],\n",
       " ['COP_2016_Firmado.pdf', 'desktop.ini'],\n",
       " ['1799_001.pdf', 'desktop.ini'],\n",
       " ['desktop.ini', 'Pacte_Mondial_2018.pdf'],\n",
       " ['desktop.ini', 'Pacte_Mondial_2018.pdf'],\n",
       " ['CARTA_PRORROGA_COP_IIIS_2018.pdf', 'desktop.ini'],\n",
       " ['desktop.ini', 'LEM_Holding_CoP2018_to_UNGC.pdf'],\n",
       " ['Cycle_adjustment_request_Kazpost.pdf', 'desktop.ini'],\n",
       " ['2018_01_07_-_grace_letter_COP_Global_Compact_2017.pdf', 'desktop.ini'],\n",
       " ['CARTA_COP_2017_assinada.pdf', 'desktop.ini'],\n",
       " ['CARTA_EMASAGRA_RENOV._PACTO_MUNDIAL_2018.pdf', 'desktop.ini'],\n",
       " ['desktop.ini', 'Forensic_Pathways_Grace_Letter.pdf'],\n",
       " ['desktop.ini', 'UNGC_HASSELL_commitment_letter_180116.pdf'],\n",
       " ['COP_extended_deadline_UNGC_2018.pdf', 'desktop.ini'],\n",
       " ['COP_Minifaber_2017.pdf', 'desktop.ini'],\n",
       " ['2017_18_COP_UN_Global_Compact_DAFA.pdf', 'desktop.ini'],\n",
       " ['2018_AXA_Reporting_Cycle_Adjustment.pdf', 'desktop.ini'],\n",
       " ['Demande_de_delai_COP_Quanteam_Janvier_2018.pdf', 'desktop.ini'],\n",
       " ['desktop.ini', 'Etisalat_UN_COP_Submission_Jan2017-Jan2018.pdf'],\n",
       " ['desktop.ini', 'Grace_Letter_Kolb_Group_20180117.pdf'],\n",
       " ['desktop.ini', 'GlobalCompact20180117.pdf'],\n",
       " ['Carta_Stakeholders.pdf', 'desktop.ini'],\n",
       " ['desktop.ini', 'Grace_Letter_UN_Global_Compact_18_Jan_18.pdf'],\n",
       " ['desktop.ini', 'Enact_UNGC_COP_2017.pdf'],\n",
       " ['desktop.ini', 'O2A_Grace_Letter.pdf'],\n",
       " ['desktop.ini', 'SKMBT_C25318011912290.pdf'],\n",
       " ['desktop.ini', 'Lettre_de_grace.pdf'],\n",
       " ['desktop.ini', 'Lettre_engagement_Global_Compact_2017.pdf'],\n",
       " ['cop.pdf', 'desktop.ini'],\n",
       " ['cbc_comunicacion_en_progreso_2017.pdf', 'desktop.ini'],\n",
       " ['CoP_2017.pdf', 'desktop.ini'],\n",
       " ['desktop.ini', 'MAS_Reporting_Cycle_Adjustment_Letter_22-1-2018.pdf'],\n",
       " ['desktop.ini', 'UN_Global_Compact_Daher_Cop_Delay.pdf'],\n",
       " ['Carta_Gracia_Pacto_Mundial_GFGCA.pdf', 'desktop.ini'],\n",
       " ['Carta_Gracia_Pacto_Mundial_GFF_(1).pdf', 'desktop.ini'],\n",
       " ['Carta_Gracia_Pacto_Mundial_GFI.pdf', 'desktop.ini'],\n",
       " ['desktop.ini', 'GRACE_LETTER_UN_GLOBAL_COMPACT.pdf'],\n",
       " ['desktop.ini', 'Solicitud_de_Extensión_Periodo_CoP_2017.pdf'],\n",
       " ['desktop.ini', 'Grace_Letter__PANKO__2018.pdf'],\n",
       " ['desktop.ini', 'UNGC.pdf'],\n",
       " ['desktop.ini', 'EEPD_GmbH_-_COP_2017.pdf'],\n",
       " ['desktop.ini', 'Global_compact_2017_pdf.pdf'],\n",
       " ['desktop.ini', 'Grace_Letter_Pizzolante.pdf'],\n",
       " ['desktop.ini', 'Grace_letter_01-24-2018.pdf'],\n",
       " ['COP_2018_ERINYS.pdf', 'desktop.ini'],\n",
       " ['desktop.ini', 'Lettre_de_Renouvellement_Torann-France.pdf'],\n",
       " ['desktop.ini',\n",
       "  'Drei_Elemente_GmbH_Grace_Letter_UN_Global_Compact_25.01.2018.pdf'],\n",
       " ['Declaracion_de_Apoyo_al_Pacto_Mundial.pdf', 'desktop.ini'],\n",
       " ['desktop.ini', 'Enedis_-_COP-2016.pdf'],\n",
       " ['desktop.ini', 'Informe_de_Progreso_Oquendo_2017.pdf'],\n",
       " ['CANCOM_UN_Global_Compact_COP_2017.pdf', 'desktop.ini'],\n",
       " ['Adjustment_request_letter_Communication_On_Progress_Lavazza.pdf',\n",
       "  'desktop.ini'],\n",
       " ['desktop.ini', 'UNGC_Request_adjusted_reproting_cycle_.pdf'],\n",
       " ['desktop.ini', 'UN_Global_Compact_-_COP_2017_-_Olympic_Subsea_ASA.pdf'],\n",
       " ['Carta_a_NNUU_SC_20-ENE-2018.pdf', 'desktop.ini'],\n",
       " ['desktop.ini', 'LH_Communication_on_Progress_26.01.18_Final.pdf'],\n",
       " ['carta_de_gracia_2018.pdf', 'desktop.ini'],\n",
       " ['Carta_de_Gracia_PM-DD.pdf', 'desktop.ini'],\n",
       " ['180130_Courrier_demande_delai_COP.pdf', 'desktop.ini'],\n",
       " ['2018_01_30_Grace_letter_FEI.pdf', 'desktop.ini'],\n",
       " ['180125_CoP.pdf', 'desktop.ini'],\n",
       " ['desktop.ini', 'Reporting_Cycle_Adjustment.pdf'],\n",
       " ['desktop.ini', 'Grace_letter_PAPSA_January_30th_2018.pdf'],\n",
       " ['desktop.ini', 'Grace_letter_REPSA_January_30th_2018.pdf'],\n",
       " ['Carta_de_gracia_Betelgeux.pdf', 'desktop.ini'],\n",
       " ['COP_MontpensierFinance_29janvier2018.pdf', 'desktop.ini'],\n",
       " ['Anudal_Carta_de_gracia.pdf', 'desktop.ini'],\n",
       " ['desktop.ini', 'EUROCERT_2nd_COP_2018.pdf'],\n",
       " ['desktop.ini', 'ETESA_Grace_Letter_2018.pdf'],\n",
       " ['desktop.ini', 'Sust-report-final-2016_UNGC.pdf'],\n",
       " ['COP__2016_a_2018_.pdf', 'desktop.ini'],\n",
       " ['Cartus_UNGC_Commitment_Letter_2018.pdf', 'desktop.ini'],\n",
       " ['desktop.ini', 'Epson_30012018210906.pdf']]"
      ]
     },
     "execution_count": 2,
     "metadata": {},
     "output_type": "execute_result"
    }
   ],
   "source": [
    "files_name"
   ]
  },
  {
   "cell_type": "code",
   "execution_count": 3,
   "metadata": {},
   "outputs": [],
   "source": [
    "filename = []\n",
    "count = 0\n",
    "for i in files_name:\n",
    "    filename.extend(i)\n",
    "file = [x for x in filename if x not in ['desktop.ini']]"
   ]
  },
  {
   "cell_type": "code",
   "execution_count": 6,
   "metadata": {},
   "outputs": [
    {
     "data": {
      "text/plain": [
       "99"
      ]
     },
     "execution_count": 6,
     "metadata": {},
     "output_type": "execute_result"
    }
   ],
   "source": []
  },
  {
   "cell_type": "code",
   "execution_count": 7,
   "metadata": {},
   "outputs": [],
   "source": [
    "\n",
    "import time\n",
    "import sys\n",
    "import warnings\n",
    "import re\n",
    "import json\n",
    "\n",
    "import img2pdf\n",
    "from PIL import Image\n",
    "import textract\n",
    "import PyPDF2\n",
    "from langdetect import detect\n",
    "import time\n",
    "import numpy as np\n",
    "import pandas as pd\n",
    "import warnings\n",
    "warnings.filterwarnings(\"ignore\", category=DeprecationWarning)\n",
    "import textwrap\n",
    "import requests\n",
    "import uuid\n",
    "import glob\n",
    "#### Time out\n",
    "import signal\n",
    "from time import sleep    # only needed for testing\n",
    "import docx\n",
    "import tqdm\n",
    "\n",
    "import pikepdf"
   ]
  },
  {
   "cell_type": "code",
   "execution_count": 8,
   "metadata": {},
   "outputs": [],
   "source": [
    "df = pd.DataFrame(columns = ['corp_id','file_name','file_size_in_bytes','page_num','text','file_format','word_count','language'])"
   ]
  },
  {
   "cell_type": "code",
   "execution_count": null,
   "metadata": {},
   "outputs": [],
   "source": [
    "for i in tqdm.tqdm_notebook(range(len(target_id))):\n",
    "    \n",
    "    path1 = '/Volumes/easystore/COP Data/cop_2018/cop_2018/' + str(target_id[i]) + '/original/' + file[i]\n",
    "    ## statinfo is the size of each file Size in bytes of a plain file; amount of data waiting on some special files.\n",
    "    statinfo = os.stat(path1).st_size\n",
    "    try:\n",
    "        pdfFileObj = open(file1,'rb')\n",
    "        #The pdfReader variable is a readable object that will be parsed\n",
    "        pdfReader = PyPDF2.PdfFileReader(pdfFileObj,strict = False)\n",
    "        #discerning the number of pages will allow us to parse through all #the pages\n",
    "        num_pages = pdfReader.numPages\n",
    "        count = 0\n",
    "        text = \"\"\n",
    "\n",
    "        while count < num_pages:\n",
    "            pageObj = pdfReader.getPage(count)\n",
    "            count += 1\n",
    "            try:\n",
    "                text += pageObj.extractText()\n",
    "            except:\n",
    "                text = ''\n",
    "                break\n",
    "    except:\n",
    "        text = ''\n",
    "        num_pages = 'try to use another method to get the number of pages'\n",
    "        \n",
    "    if text != \"\":\n",
    "        if '\\n\\n\\n\\n\\n\\n\\n\\n\\n\\n' in text:\n",
    "            try:\n",
    "                text = str(textract.process(path1, method='tesseract'))\n",
    "                df.loc[i, 'text'] = text\n",
    "                df.loc[i, 'file_format'] = 'text-based-PDF'\n",
    "            except:\n",
    "                df.loc[i, 'text'] = 'No'\n",
    "                df.loc[i, 'file_format'] = 'No'\n",
    "        else:\n",
    "            text = str(text)\n",
    "            df.loc[i, 'text'] = text\n",
    "            df.loc[i, 'file_format'] = 'text-based-PDF'\n",
    "#    If the above returns as False, we run the OCR library textract to #convert scanned/image based PDF files into text\n",
    "    else:\n",
    "        try:\n",
    "            text = str(textract.process(path1, method='tesseract'))\n",
    "            df.loc[i, 'text'] = text\n",
    "            df.loc[i, 'file_format'] = 'image-based-PDF'\n",
    "        except:\n",
    "            df.loc[i, 'text'] = 'No'\n",
    "            df.loc[i, 'file_format'] = 'No' \n",
    "     \n",
    "    df.loc[i, 'page_num'] = num_pages\n",
    "\n",
    "\n",
    "    df.loc[i, 'corp_id'] = list_id[i]\n",
    "    df.loc[i, 'file_name'] = list_pdf[i]\n",
    "    df.loc[i, 'file_size_in_bytes'] = statinfo\n",
    "    \n",
    "    \n",
    "    txt = df.loc[i, 'text']\n",
    "    word_count = len(txt.split())\n",
    "    df.loc[i,'word_count'] = word_count\n",
    "    \n",
    "    "
   ]
  },
  {
   "cell_type": "code",
   "execution_count": 16,
   "metadata": {},
   "outputs": [
    {
     "name": "stderr",
     "output_type": "stream",
     "text": [
      "PdfReadWarning: Xref table not zero-indexed. ID numbers for objects will be corrected. [pdf.py:1736]\n"
     ]
    }
   ],
   "source": [
    "path = '/Volumes/easystore/COP Data/cop_2018/cop_2018/453991/original/Grace_Letter_Kolb_Group_20180117.pdf'\n",
    "pdfFileObj = open(path,'rb')\n",
    "#The pdfReader variable is a readable object that will be parsed\n",
    "pdfReader = PyPDF2.PdfFileReader(pdfFileObj)\n",
    "#discerning the number of pages will allow us to parse through all #the pages\n",
    "\n",
    "\n",
    "pageObj = pdfReader.getPage(0)\n",
    "\n",
    "text = pageObj.extractText()\n"
   ]
  },
  {
   "cell_type": "code",
   "execution_count": 17,
   "metadata": {},
   "outputs": [
    {
     "data": {
      "text/plain": [
       "''"
      ]
     },
     "execution_count": 17,
     "metadata": {},
     "output_type": "execute_result"
    }
   ],
   "source": [
    "text"
   ]
  },
  {
   "cell_type": "code",
   "execution_count": null,
   "metadata": {},
   "outputs": [],
   "source": []
  }
 ],
 "metadata": {
  "kernelspec": {
   "display_name": "Python 3",
   "language": "python",
   "name": "python3"
  },
  "language_info": {
   "codemirror_mode": {
    "name": "ipython",
    "version": 3
   },
   "file_extension": ".py",
   "mimetype": "text/x-python",
   "name": "python",
   "nbconvert_exporter": "python",
   "pygments_lexer": "ipython3",
   "version": "3.7.3"
  }
 },
 "nbformat": 4,
 "nbformat_minor": 2
}
